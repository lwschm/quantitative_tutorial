{
  "cells": [
    {
      "cell_type": "markdown",
      "metadata": {
        "id": "view-in-github",
        "colab_type": "text"
      },
      "source": [
        "<a href=\"https://colab.research.google.com/github/lwschm/quantitative_tutorial/blob/main/Crop_classification.ipynb\" target=\"_parent\"><img src=\"https://colab.research.google.com/assets/colab-badge.svg\" alt=\"Open In Colab\"/></a>"
      ]
    },
    {
      "cell_type": "markdown",
      "metadata": {
        "id": "tvxH7T7gO92e"
      },
      "source": [
        "### To determine the outcome of the harvest season, i.e. whether the crop would be healthy (alive), damaged by pesticides or damaged by other reasons.\n",
        "\n",
        "Modified version for the course 'Quantitative Decision Making in Agricultural Business' at HU-Berlin. Original version can be found here: https://github.com/priyalagarwal27/Crop-Detection-and-Prediction-using-Classification- "
      ]
    },
    {
      "cell_type": "code",
      "execution_count": null,
      "metadata": {
        "id": "2tlFOQDmO92g"
      },
      "outputs": [],
      "source": [
        "#Importing all the necessarylibraries\n",
        "import numpy as np\n",
        "import pandas as pd\n",
        "import matplotlib.pyplot as plt\n",
        "import seaborn as sns\n",
        "\n",
        "#Importing the warnings\n",
        "import warnings\n",
        "warnings.filterwarnings('ignore')"
      ]
    },
    {
      "cell_type": "code",
      "execution_count": null,
      "metadata": {
        "id": "GOECcWGQO92h",
        "outputId": "f72c9472-0871-461b-c80c-cac2bba8b99a",
        "colab": {
          "base_uri": "https://localhost:8080/",
          "height": 206
        }
      },
      "outputs": [
        {
          "output_type": "execute_result",
          "data": {
            "text/plain": [
              "          ID  Estimated_Insects_Count  Crop_Type  Soil_Type  \\\n",
              "0  F00000001                      188          1          0   \n",
              "1  F00000003                      209          1          0   \n",
              "2  F00000004                      257          1          0   \n",
              "3  F00000005                      257          1          1   \n",
              "4  F00000006                      342          1          0   \n",
              "\n",
              "   Pesticide_Use_Category  Number_Doses_Week  Number_Weeks_Used  \\\n",
              "0                       1                  0                0.0   \n",
              "1                       1                  0                0.0   \n",
              "2                       1                  0                0.0   \n",
              "3                       1                  0                0.0   \n",
              "4                       1                  0                0.0   \n",
              "\n",
              "   Number_Weeks_Quit  Season  Crop_Damage source  \n",
              "0                  0       1            0  train  \n",
              "1                  0       2            1  train  \n",
              "2                  0       2            1  train  \n",
              "3                  0       2            1  train  \n",
              "4                  0       2            1  train  "
            ],
            "text/html": [
              "\n",
              "  <div id=\"df-18c0dfdc-dcc1-453e-9d94-0edf61075d8a\">\n",
              "    <div class=\"colab-df-container\">\n",
              "      <div>\n",
              "<style scoped>\n",
              "    .dataframe tbody tr th:only-of-type {\n",
              "        vertical-align: middle;\n",
              "    }\n",
              "\n",
              "    .dataframe tbody tr th {\n",
              "        vertical-align: top;\n",
              "    }\n",
              "\n",
              "    .dataframe thead th {\n",
              "        text-align: right;\n",
              "    }\n",
              "</style>\n",
              "<table border=\"1\" class=\"dataframe\">\n",
              "  <thead>\n",
              "    <tr style=\"text-align: right;\">\n",
              "      <th></th>\n",
              "      <th>ID</th>\n",
              "      <th>Estimated_Insects_Count</th>\n",
              "      <th>Crop_Type</th>\n",
              "      <th>Soil_Type</th>\n",
              "      <th>Pesticide_Use_Category</th>\n",
              "      <th>Number_Doses_Week</th>\n",
              "      <th>Number_Weeks_Used</th>\n",
              "      <th>Number_Weeks_Quit</th>\n",
              "      <th>Season</th>\n",
              "      <th>Crop_Damage</th>\n",
              "      <th>source</th>\n",
              "    </tr>\n",
              "  </thead>\n",
              "  <tbody>\n",
              "    <tr>\n",
              "      <th>0</th>\n",
              "      <td>F00000001</td>\n",
              "      <td>188</td>\n",
              "      <td>1</td>\n",
              "      <td>0</td>\n",
              "      <td>1</td>\n",
              "      <td>0</td>\n",
              "      <td>0.0</td>\n",
              "      <td>0</td>\n",
              "      <td>1</td>\n",
              "      <td>0</td>\n",
              "      <td>train</td>\n",
              "    </tr>\n",
              "    <tr>\n",
              "      <th>1</th>\n",
              "      <td>F00000003</td>\n",
              "      <td>209</td>\n",
              "      <td>1</td>\n",
              "      <td>0</td>\n",
              "      <td>1</td>\n",
              "      <td>0</td>\n",
              "      <td>0.0</td>\n",
              "      <td>0</td>\n",
              "      <td>2</td>\n",
              "      <td>1</td>\n",
              "      <td>train</td>\n",
              "    </tr>\n",
              "    <tr>\n",
              "      <th>2</th>\n",
              "      <td>F00000004</td>\n",
              "      <td>257</td>\n",
              "      <td>1</td>\n",
              "      <td>0</td>\n",
              "      <td>1</td>\n",
              "      <td>0</td>\n",
              "      <td>0.0</td>\n",
              "      <td>0</td>\n",
              "      <td>2</td>\n",
              "      <td>1</td>\n",
              "      <td>train</td>\n",
              "    </tr>\n",
              "    <tr>\n",
              "      <th>3</th>\n",
              "      <td>F00000005</td>\n",
              "      <td>257</td>\n",
              "      <td>1</td>\n",
              "      <td>1</td>\n",
              "      <td>1</td>\n",
              "      <td>0</td>\n",
              "      <td>0.0</td>\n",
              "      <td>0</td>\n",
              "      <td>2</td>\n",
              "      <td>1</td>\n",
              "      <td>train</td>\n",
              "    </tr>\n",
              "    <tr>\n",
              "      <th>4</th>\n",
              "      <td>F00000006</td>\n",
              "      <td>342</td>\n",
              "      <td>1</td>\n",
              "      <td>0</td>\n",
              "      <td>1</td>\n",
              "      <td>0</td>\n",
              "      <td>0.0</td>\n",
              "      <td>0</td>\n",
              "      <td>2</td>\n",
              "      <td>1</td>\n",
              "      <td>train</td>\n",
              "    </tr>\n",
              "  </tbody>\n",
              "</table>\n",
              "</div>\n",
              "      <button class=\"colab-df-convert\" onclick=\"convertToInteractive('df-18c0dfdc-dcc1-453e-9d94-0edf61075d8a')\"\n",
              "              title=\"Convert this dataframe to an interactive table.\"\n",
              "              style=\"display:none;\">\n",
              "        \n",
              "  <svg xmlns=\"http://www.w3.org/2000/svg\" height=\"24px\"viewBox=\"0 0 24 24\"\n",
              "       width=\"24px\">\n",
              "    <path d=\"M0 0h24v24H0V0z\" fill=\"none\"/>\n",
              "    <path d=\"M18.56 5.44l.94 2.06.94-2.06 2.06-.94-2.06-.94-.94-2.06-.94 2.06-2.06.94zm-11 1L8.5 8.5l.94-2.06 2.06-.94-2.06-.94L8.5 2.5l-.94 2.06-2.06.94zm10 10l.94 2.06.94-2.06 2.06-.94-2.06-.94-.94-2.06-.94 2.06-2.06.94z\"/><path d=\"M17.41 7.96l-1.37-1.37c-.4-.4-.92-.59-1.43-.59-.52 0-1.04.2-1.43.59L10.3 9.45l-7.72 7.72c-.78.78-.78 2.05 0 2.83L4 21.41c.39.39.9.59 1.41.59.51 0 1.02-.2 1.41-.59l7.78-7.78 2.81-2.81c.8-.78.8-2.07 0-2.86zM5.41 20L4 18.59l7.72-7.72 1.47 1.35L5.41 20z\"/>\n",
              "  </svg>\n",
              "      </button>\n",
              "      \n",
              "  <style>\n",
              "    .colab-df-container {\n",
              "      display:flex;\n",
              "      flex-wrap:wrap;\n",
              "      gap: 12px;\n",
              "    }\n",
              "\n",
              "    .colab-df-convert {\n",
              "      background-color: #E8F0FE;\n",
              "      border: none;\n",
              "      border-radius: 50%;\n",
              "      cursor: pointer;\n",
              "      display: none;\n",
              "      fill: #1967D2;\n",
              "      height: 32px;\n",
              "      padding: 0 0 0 0;\n",
              "      width: 32px;\n",
              "    }\n",
              "\n",
              "    .colab-df-convert:hover {\n",
              "      background-color: #E2EBFA;\n",
              "      box-shadow: 0px 1px 2px rgba(60, 64, 67, 0.3), 0px 1px 3px 1px rgba(60, 64, 67, 0.15);\n",
              "      fill: #174EA6;\n",
              "    }\n",
              "\n",
              "    [theme=dark] .colab-df-convert {\n",
              "      background-color: #3B4455;\n",
              "      fill: #D2E3FC;\n",
              "    }\n",
              "\n",
              "    [theme=dark] .colab-df-convert:hover {\n",
              "      background-color: #434B5C;\n",
              "      box-shadow: 0px 1px 3px 1px rgba(0, 0, 0, 0.15);\n",
              "      filter: drop-shadow(0px 1px 2px rgba(0, 0, 0, 0.3));\n",
              "      fill: #FFFFFF;\n",
              "    }\n",
              "  </style>\n",
              "\n",
              "      <script>\n",
              "        const buttonEl =\n",
              "          document.querySelector('#df-18c0dfdc-dcc1-453e-9d94-0edf61075d8a button.colab-df-convert');\n",
              "        buttonEl.style.display =\n",
              "          google.colab.kernel.accessAllowed ? 'block' : 'none';\n",
              "\n",
              "        async function convertToInteractive(key) {\n",
              "          const element = document.querySelector('#df-18c0dfdc-dcc1-453e-9d94-0edf61075d8a');\n",
              "          const dataTable =\n",
              "            await google.colab.kernel.invokeFunction('convertToInteractive',\n",
              "                                                     [key], {});\n",
              "          if (!dataTable) return;\n",
              "\n",
              "          const docLinkHtml = 'Like what you see? Visit the ' +\n",
              "            '<a target=\"_blank\" href=https://colab.research.google.com/notebooks/data_table.ipynb>data table notebook</a>'\n",
              "            + ' to learn more about interactive tables.';\n",
              "          element.innerHTML = '';\n",
              "          dataTable['output_type'] = 'display_data';\n",
              "          await google.colab.output.renderOutput(dataTable, element);\n",
              "          const docLink = document.createElement('div');\n",
              "          docLink.innerHTML = docLinkHtml;\n",
              "          element.appendChild(docLink);\n",
              "        }\n",
              "      </script>\n",
              "    </div>\n",
              "  </div>\n",
              "  "
            ]
          },
          "metadata": {},
          "execution_count": 5
        }
      ],
      "source": [
        "#Loading the dataset\n",
        "df_train=pd.read_csv(\"https://github.com/lwschm/quantitative_tutorial/blob/main/train_agriculture.csv?raw=true\")\n",
        "df_train[\"source\"]=\"train\"\n",
        "df_test=pd.read_excel(\"https://github.com/lwschm/quantitative_tutorial/blob/main/test_agriculture.xlsx?raw=true\")\n",
        "df_test[\"source\"]=\"test\"\n",
        "df=df_train\n",
        "df.head()"
      ]
    },
    {
      "cell_type": "code",
      "execution_count": null,
      "metadata": {
        "id": "JP8nN3jcO92h",
        "outputId": "12a66ec7-88f1-4098-9a6d-faf9f08212bb",
        "colab": {
          "base_uri": "https://localhost:8080/"
        }
      },
      "outputs": [
        {
          "output_type": "stream",
          "name": "stdout",
          "text": [
            "ID 88858\n",
            "Estimated_Insects_Count 71\n",
            "Crop_Type 2\n",
            "[1 0]\n",
            "Soil_Type 2\n",
            "[0 1]\n",
            "Pesticide_Use_Category 3\n",
            "[1 3 2]\n",
            "Number_Doses_Week 20\n",
            "Number_Weeks_Used 65\n",
            "Number_Weeks_Quit 51\n",
            "Season 3\n",
            "[1 2 3]\n",
            "Crop_Damage 3\n",
            "[0 1 2]\n",
            "source 1\n",
            "['train']\n"
          ]
        }
      ],
      "source": [
        "for i in df.columns:\n",
        "    a=df[i].unique()\n",
        "    len(a)\n",
        "    print(i,len(a))\n",
        "    if len(a)<5:\n",
        "        print(a)"
      ]
    },
    {
      "cell_type": "code",
      "execution_count": null,
      "metadata": {
        "id": "LjY8hDMmO92i",
        "outputId": "f0255a45-c079-4a9d-e221-dfb550e0e760",
        "colab": {
          "base_uri": "https://localhost:8080/"
        }
      },
      "outputs": [
        {
          "output_type": "execute_result",
          "data": {
            "text/plain": [
              "ID                         88858\n",
              "Estimated_Insects_Count       71\n",
              "Crop_Type                      2\n",
              "Soil_Type                      2\n",
              "Pesticide_Use_Category         3\n",
              "Number_Doses_Week             20\n",
              "Number_Weeks_Used             64\n",
              "Number_Weeks_Quit             51\n",
              "Season                         3\n",
              "Crop_Damage                    3\n",
              "source                         1\n",
              "dtype: int64"
            ]
          },
          "metadata": {},
          "execution_count": 7
        }
      ],
      "source": [
        "df.nunique()"
      ]
    },
    {
      "cell_type": "code",
      "execution_count": null,
      "metadata": {
        "id": "OT8qAbgjO92i",
        "outputId": "b2bf3e68-697d-4bd5-e4d6-d4139a9124f6",
        "colab": {
          "base_uri": "https://localhost:8080/"
        }
      },
      "outputs": [
        {
          "output_type": "execute_result",
          "data": {
            "text/plain": [
              "Index(['ID', 'Estimated_Insects_Count', 'Crop_Type', 'Soil_Type',\n",
              "       'Pesticide_Use_Category', 'Number_Doses_Week', 'Number_Weeks_Used',\n",
              "       'Number_Weeks_Quit', 'Season', 'Crop_Damage', 'source'],\n",
              "      dtype='object')"
            ]
          },
          "metadata": {},
          "execution_count": 8
        }
      ],
      "source": [
        "df.columns"
      ]
    },
    {
      "cell_type": "code",
      "execution_count": null,
      "metadata": {
        "id": "d7KX6FmrO92i",
        "outputId": "3c0b020b-f935-44d9-a1e7-9110d099cd4b",
        "colab": {
          "base_uri": "https://localhost:8080/"
        }
      },
      "outputs": [
        {
          "output_type": "execute_result",
          "data": {
            "text/plain": [
              "(88858, 11)"
            ]
          },
          "metadata": {},
          "execution_count": 9
        }
      ],
      "source": [
        "df.shape"
      ]
    },
    {
      "cell_type": "code",
      "execution_count": null,
      "metadata": {
        "id": "sJBGMkoVO92i",
        "outputId": "42dde6d3-020a-4582-aef9-b46285acb341",
        "colab": {
          "base_uri": "https://localhost:8080/"
        }
      },
      "outputs": [
        {
          "output_type": "execute_result",
          "data": {
            "text/plain": [
              "ID                            0\n",
              "Estimated_Insects_Count       0\n",
              "Crop_Type                     0\n",
              "Soil_Type                     0\n",
              "Pesticide_Use_Category        0\n",
              "Number_Doses_Week             0\n",
              "Number_Weeks_Used          9000\n",
              "Number_Weeks_Quit             0\n",
              "Season                        0\n",
              "Crop_Damage                   0\n",
              "source                        0\n",
              "dtype: int64"
            ]
          },
          "metadata": {},
          "execution_count": 10
        }
      ],
      "source": [
        "#Check for Null Values\n",
        "df.isnull().sum()"
      ]
    },
    {
      "cell_type": "markdown",
      "metadata": {
        "id": "Yl2cBW1LO92i"
      },
      "source": [
        "**3. Do we have missing data? And how we can handle this?**"
      ]
    },
    {
      "cell_type": "code",
      "execution_count": null,
      "metadata": {
        "id": "0qCwPLq9O92j"
      },
      "outputs": [],
      "source": [
        "#Replacing missing values with mode of the data .\n",
        "df['Number_Weeks_Used'].fillna(df['Number_Weeks_Used'].mean(),inplace=True)"
      ]
    },
    {
      "cell_type": "code",
      "execution_count": null,
      "metadata": {
        "id": "d38RIsTzO92j",
        "outputId": "67846528-0877-461b-b6bb-0ad4fbbdd902",
        "colab": {
          "base_uri": "https://localhost:8080/"
        }
      },
      "outputs": [
        {
          "output_type": "execute_result",
          "data": {
            "text/plain": [
              "ID                         0\n",
              "Estimated_Insects_Count    0\n",
              "Crop_Type                  0\n",
              "Soil_Type                  0\n",
              "Pesticide_Use_Category     0\n",
              "Number_Doses_Week          0\n",
              "Number_Weeks_Used          0\n",
              "Number_Weeks_Quit          0\n",
              "Season                     0\n",
              "Crop_Damage                0\n",
              "source                     0\n",
              "dtype: int64"
            ]
          },
          "metadata": {},
          "execution_count": 12
        }
      ],
      "source": [
        "# Again Checking for Null Values\n",
        "df.isnull().sum()"
      ]
    },
    {
      "cell_type": "markdown",
      "metadata": {
        "id": "liMJd5k_O92j"
      },
      "source": [
        "**1. What can you say about the data set?**"
      ]
    },
    {
      "cell_type": "code",
      "execution_count": null,
      "metadata": {
        "id": "wfs5or59O92j"
      },
      "outputs": [],
      "source": [
        "#df_test.shape"
      ]
    },
    {
      "cell_type": "code",
      "execution_count": null,
      "metadata": {
        "id": "9ohpClszO92k",
        "outputId": "cd40f182-96a4-45cf-c4ad-806c7c375ca8",
        "colab": {
          "base_uri": "https://localhost:8080/"
        }
      },
      "outputs": [
        {
          "output_type": "execute_result",
          "data": {
            "text/plain": [
              "ID                          object\n",
              "Estimated_Insects_Count      int64\n",
              "Crop_Type                    int64\n",
              "Soil_Type                    int64\n",
              "Pesticide_Use_Category       int64\n",
              "Number_Doses_Week            int64\n",
              "Number_Weeks_Used          float64\n",
              "Number_Weeks_Quit            int64\n",
              "Season                       int64\n",
              "Crop_Damage                  int64\n",
              "source                      object\n",
              "dtype: object"
            ]
          },
          "metadata": {},
          "execution_count": 13
        }
      ],
      "source": [
        "#Checking Datatypes \n",
        "df.dtypes"
      ]
    },
    {
      "cell_type": "markdown",
      "metadata": {
        "id": "sxmDMFxrO92k"
      },
      "source": [
        "Observation:\n",
        "\n",
        "    1.ID column is in object datatype.\n",
        "    \n",
        "    2.Rest all columns are in int64 datatype except Number_Weeks_Used column."
      ]
    },
    {
      "cell_type": "code",
      "execution_count": null,
      "metadata": {
        "id": "C4kcvSSCO92k",
        "outputId": "539ffccc-157b-4ade-a7a6-bf30d6693c28",
        "colab": {
          "base_uri": "https://localhost:8080/"
        }
      },
      "outputs": [
        {
          "output_type": "stream",
          "name": "stdout",
          "text": [
            "<class 'pandas.core.frame.DataFrame'>\n",
            "RangeIndex: 88858 entries, 0 to 88857\n",
            "Data columns (total 11 columns):\n",
            " #   Column                   Non-Null Count  Dtype  \n",
            "---  ------                   --------------  -----  \n",
            " 0   ID                       88858 non-null  object \n",
            " 1   Estimated_Insects_Count  88858 non-null  int64  \n",
            " 2   Crop_Type                88858 non-null  int64  \n",
            " 3   Soil_Type                88858 non-null  int64  \n",
            " 4   Pesticide_Use_Category   88858 non-null  int64  \n",
            " 5   Number_Doses_Week        88858 non-null  int64  \n",
            " 6   Number_Weeks_Used        88858 non-null  float64\n",
            " 7   Number_Weeks_Quit        88858 non-null  int64  \n",
            " 8   Season                   88858 non-null  int64  \n",
            " 9   Crop_Damage              88858 non-null  int64  \n",
            " 10  source                   88858 non-null  object \n",
            "dtypes: float64(1), int64(8), object(2)\n",
            "memory usage: 7.5+ MB\n"
          ]
        }
      ],
      "source": [
        "df.info()"
      ]
    },
    {
      "cell_type": "code",
      "execution_count": null,
      "metadata": {
        "id": "ilic560LO92k",
        "outputId": "c877a5f7-77e1-4bb7-e216-20a7bd7cb389",
        "colab": {
          "base_uri": "https://localhost:8080/",
          "height": 401
        }
      },
      "outputs": [
        {
          "output_type": "execute_result",
          "data": {
            "text/plain": [
              "<matplotlib.axes._subplots.AxesSubplot at 0x7f9efd2b5370>"
            ]
          },
          "metadata": {},
          "execution_count": 15
        },
        {
          "output_type": "display_data",
          "data": {
            "text/plain": [
              "<Figure size 432x288 with 2 Axes>"
            ],
            "image/png": "[encoded data removed]"
          },
          "metadata": {
            "needs_background": "light"
          }
        }
      ],
      "source": [
        "#Checking Correlation using heatmap\n",
        "sns.heatmap(df.corr(),annot=True,cmap='coolwarm')"
      ]
    },
    {
      "cell_type": "markdown",
      "metadata": {
        "id": "BB3ihW8cO92l"
      },
      "source": [
        "**2. Describe the observations**"
      ]
    },
    {
      "cell_type": "markdown",
      "metadata": {
        "id": "cco0N5G0O92l"
      },
      "source": [
        "## Univariate Analysis"
      ]
    },
    {
      "cell_type": "code",
      "execution_count": null,
      "metadata": {
        "id": "XTyfuTzBO92l",
        "outputId": "70f11537-97d9-4a25-c8ad-8851bfba5cfc",
        "colab": {
          "base_uri": "https://localhost:8080/",
          "height": 414
        }
      },
      "outputs": [
        {
          "output_type": "display_data",
          "data": {
            "text/plain": [
              "<Figure size 864x360 with 0 Axes>"
            ]
          },
          "metadata": {}
        },
        {
          "output_type": "display_data",
          "data": {
            "text/plain": [
              "<Figure size 418.75x360 with 1 Axes>"
            ],
            "image/png": "[encoded data removed]"
          },
          "metadata": {
            "needs_background": "light"
          }
        }
      ],
      "source": [
        "plt.figure(figsize=(12,5))\n",
        "sns.catplot(x='Crop_Damage', data=df, palette=\"hls\",kind='count',hue='Crop_Type')\n",
        "plt.xlabel(\"Crop_Damage\", fontsize=16)\n",
        "plt.ylabel(\"Count\", fontsize=16)\n",
        "plt.title(\"Crop_Type Grouped Count\", fontsize=20)\n",
        "plt.xticks(rotation=45)\n",
        "plt.show()"
      ]
    },
    {
      "cell_type": "markdown",
      "metadata": {
        "id": "jRsWgbPFO92l"
      },
      "source": [
        "Observations:\n",
        "    \n",
        "    1. Crop damage due to pesticides are less in comparison to damage due to other causes.\n",
        "    2. Crop type 0 has higher chance of survival compared to crop type 1."
      ]
    },
    {
      "cell_type": "code",
      "execution_count": null,
      "metadata": {
        "scrolled": true,
        "id": "OyhvbT8YO92l",
        "outputId": "484b9871-1320-4c0d-daac-fc06f95d201d"
      },
      "outputs": [
        {
          "data": {
            "text/plain": [
              "Text(0.5, 1.0, 'Crop Damage vs Pesticide Use Category ')"
            ]
          },
          "execution_count": 187,
          "metadata": {},
          "output_type": "execute_result"
        },
        {
          "data": {
            "image/png": "[encoded data removed]",
            "text/plain": [
              "<Figure size 1080x360 with 3 Axes>"
            ]
          },
          "metadata": {
            "needs_background": "light"
          },
          "output_type": "display_data"
        }
      ],
      "source": [
        "fig, [ax1,ax2,ax3] = plt.subplots(nrows=1,ncols=3,figsize=(15,5))\n",
        "ax1=sns.countplot(x=\"Crop_Damage\" ,hue=\"Pesticide_Use_Category\",data=df[df[\"Crop_Damage\"]==0],ax=ax1)\n",
        "ax1.set_title(\"Crop Damage vs Insect Count for Crop Type\")\n",
        "ax2=sns.countplot(x=\"Crop_Damage\" ,hue=\"Pesticide_Use_Category\",data=df[df[\"Crop_Damage\"]==1],ax=ax2)\n",
        "ax2.set_title(\"Crop Damage vs Number Week Used\")\n",
        "ax3=sns.countplot(x=\"Crop_Damage\" ,hue=\"Pesticide_Use_Category\",data=df[df[\"Crop_Damage\"]==2],ax=ax3)\n",
        "ax3.set_title(\"Crop Damage vs Pesticide Use Category \")\n"
      ]
    },
    {
      "cell_type": "markdown",
      "metadata": {
        "id": "TAPLdx14O92m"
      },
      "source": [
        "##### Observations: \n",
        "1. Type 2 pesticide is much safer to use as compared to Type 3 pesticide. \n",
        "2. Type 3 pesticide shows most pesticide related damage to crops. "
      ]
    },
    {
      "cell_type": "code",
      "execution_count": null,
      "metadata": {
        "id": "TPqbVr_dO92m",
        "outputId": "3678ceb7-8cf3-4af5-e864-1889cd600189"
      },
      "outputs": [
        {
          "data": {
            "text/plain": [
              "<Figure size 864x360 with 0 Axes>"
            ]
          },
          "metadata": {},
          "output_type": "display_data"
        },
        {
          "data": {
            "image/png": "[encoded data removed]",
            "text/plain": [
              "<Figure size 1080x360 with 3 Axes>"
            ]
          },
          "metadata": {
            "needs_background": "light"
          },
          "output_type": "display_data"
        }
      ],
      "source": [
        "plt.figure(figsize=(12,5))\n",
        "g= sns.FacetGrid(df, col='Crop_Damage',size=5)\n",
        "g = g.map(sns.distplot, \"Number_Weeks_Used\")\n",
        "plt.show()"
      ]
    },
    {
      "cell_type": "markdown",
      "metadata": {
        "id": "0Vt8RbrZO92m"
      },
      "source": [
        "##### Observations: \n",
        "1. From Graph 1 we can conclude that till 20-25 weeks damage due to pesticide is negligible. \n",
        "2. From Graph 3 we can see that after 20 weeks damage due to use of pesticide increrases significantly. "
      ]
    },
    {
      "cell_type": "markdown",
      "metadata": {
        "id": "EO916Cq7O92m"
      },
      "source": [
        "## Bivariate Analysis"
      ]
    },
    {
      "cell_type": "code",
      "execution_count": null,
      "metadata": {
        "scrolled": true,
        "id": "1JuMXB_jO92n",
        "outputId": "fe248265-3da2-4a5c-9363-3eb3c2cdfb3d"
      },
      "outputs": [
        {
          "data": {
            "text/plain": [
              "<matplotlib.axes._subplots.AxesSubplot at 0x1ee23052880>"
            ]
          },
          "execution_count": 189,
          "metadata": {},
          "output_type": "execute_result"
        },
        {
          "data": {
            "image/png": "[encoded data removed]",
            "text/plain": [
              "<Figure size 432x288 with 1 Axes>"
            ]
          },
          "metadata": {
            "needs_background": "light"
          },
          "output_type": "display_data"
        }
      ],
      "source": [
        "sns.barplot(x=\"Crop_Damage\" ,y=\"Estimated_Insects_Count\",hue=\"Crop_Type\",data=df)"
      ]
    },
    {
      "cell_type": "markdown",
      "metadata": {
        "id": "TIUKPXT3O92n"
      },
      "source": [
        "##### Observations: \n",
        "1. Clearly observed that Most insect attacks are done on crop type 0."
      ]
    },
    {
      "cell_type": "code",
      "execution_count": null,
      "metadata": {
        "scrolled": true,
        "id": "pA1bRIYEO92n",
        "outputId": "5f39a894-9f64-4d74-b36d-059e76b7dc4d"
      },
      "outputs": [
        {
          "data": {
            "text/plain": [
              "<Figure size 864x360 with 0 Axes>"
            ]
          },
          "metadata": {},
          "output_type": "display_data"
        },
        {
          "data": {
            "image/png": "[encoded data removed]",
            "text/plain": [
              "<Figure size 1080x360 with 3 Axes>"
            ]
          },
          "metadata": {
            "needs_background": "light"
          },
          "output_type": "display_data"
        }
      ],
      "source": [
        "plt.figure(figsize=(12,5))\n",
        "sns.catplot(x='Crop_Type',y='Number_Weeks_Used', data=df, palette=\"hls\",kind='bar',col='Crop_Damage')\n",
        "plt.xticks(rotation=45)\n",
        "plt.show()"
      ]
    },
    {
      "cell_type": "markdown",
      "metadata": {
        "id": "uv0iikALO92n"
      },
      "source": [
        "##### Observations:\n",
        "1. Crop Type 0 is more vulnerable to pesticide related and other damages as compared to Type1\n",
        "2. Avg. duration of pesticide related damage is lower for Crop type 1. "
      ]
    },
    {
      "cell_type": "markdown",
      "metadata": {
        "id": "htgM-02zO92n"
      },
      "source": [
        "### Outliers Analysis"
      ]
    },
    {
      "cell_type": "code",
      "execution_count": null,
      "metadata": {
        "scrolled": true,
        "id": "0df5Oq-MO92n",
        "outputId": "9178c44a-0c16-41a3-b287-ccfaa02c21e1"
      },
      "outputs": [
        {
          "data": {
            "text/html": [
              "<div>\n",
              "<style scoped>\n",
              "    .dataframe tbody tr th:only-of-type {\n",
              "        vertical-align: middle;\n",
              "    }\n",
              "\n",
              "    .dataframe tbody tr th {\n",
              "        vertical-align: top;\n",
              "    }\n",
              "\n",
              "    .dataframe thead th {\n",
              "        text-align: right;\n",
              "    }\n",
              "</style>\n",
              "<table border=\"1\" class=\"dataframe\">\n",
              "  <thead>\n",
              "    <tr style=\"text-align: right;\">\n",
              "      <th></th>\n",
              "      <th>Estimated_Insects_Count</th>\n",
              "      <th>Crop_Type</th>\n",
              "      <th>Soil_Type</th>\n",
              "      <th>Pesticide_Use_Category</th>\n",
              "      <th>Number_Doses_Week</th>\n",
              "      <th>Number_Weeks_Used</th>\n",
              "      <th>Number_Weeks_Quit</th>\n",
              "      <th>Season</th>\n",
              "      <th>Crop_Damage</th>\n",
              "    </tr>\n",
              "  </thead>\n",
              "  <tbody>\n",
              "    <tr>\n",
              "      <th>count</th>\n",
              "      <td>88858.000000</td>\n",
              "      <td>88858.000000</td>\n",
              "      <td>88858.000000</td>\n",
              "      <td>88858.000000</td>\n",
              "      <td>88858.000000</td>\n",
              "      <td>88858.000000</td>\n",
              "      <td>88858.000000</td>\n",
              "      <td>88858.000000</td>\n",
              "      <td>88858.000000</td>\n",
              "    </tr>\n",
              "    <tr>\n",
              "      <th>mean</th>\n",
              "      <td>1399.012210</td>\n",
              "      <td>0.284375</td>\n",
              "      <td>0.458417</td>\n",
              "      <td>2.264186</td>\n",
              "      <td>25.849952</td>\n",
              "      <td>28.623970</td>\n",
              "      <td>9.589986</td>\n",
              "      <td>1.896959</td>\n",
              "      <td>0.190562</td>\n",
              "    </tr>\n",
              "    <tr>\n",
              "      <th>std</th>\n",
              "      <td>849.048781</td>\n",
              "      <td>0.451119</td>\n",
              "      <td>0.498271</td>\n",
              "      <td>0.461772</td>\n",
              "      <td>15.554428</td>\n",
              "      <td>11.747567</td>\n",
              "      <td>9.900631</td>\n",
              "      <td>0.701322</td>\n",
              "      <td>0.454215</td>\n",
              "    </tr>\n",
              "    <tr>\n",
              "      <th>min</th>\n",
              "      <td>150.000000</td>\n",
              "      <td>0.000000</td>\n",
              "      <td>0.000000</td>\n",
              "      <td>1.000000</td>\n",
              "      <td>0.000000</td>\n",
              "      <td>0.000000</td>\n",
              "      <td>0.000000</td>\n",
              "      <td>1.000000</td>\n",
              "      <td>0.000000</td>\n",
              "    </tr>\n",
              "    <tr>\n",
              "      <th>25%</th>\n",
              "      <td>731.000000</td>\n",
              "      <td>0.000000</td>\n",
              "      <td>0.000000</td>\n",
              "      <td>2.000000</td>\n",
              "      <td>15.000000</td>\n",
              "      <td>20.000000</td>\n",
              "      <td>0.000000</td>\n",
              "      <td>1.000000</td>\n",
              "      <td>0.000000</td>\n",
              "    </tr>\n",
              "    <tr>\n",
              "      <th>50%</th>\n",
              "      <td>1212.000000</td>\n",
              "      <td>0.000000</td>\n",
              "      <td>0.000000</td>\n",
              "      <td>2.000000</td>\n",
              "      <td>20.000000</td>\n",
              "      <td>28.623970</td>\n",
              "      <td>7.000000</td>\n",
              "      <td>2.000000</td>\n",
              "      <td>0.000000</td>\n",
              "    </tr>\n",
              "    <tr>\n",
              "      <th>75%</th>\n",
              "      <td>1898.000000</td>\n",
              "      <td>1.000000</td>\n",
              "      <td>1.000000</td>\n",
              "      <td>3.000000</td>\n",
              "      <td>40.000000</td>\n",
              "      <td>36.000000</td>\n",
              "      <td>16.000000</td>\n",
              "      <td>2.000000</td>\n",
              "      <td>0.000000</td>\n",
              "    </tr>\n",
              "    <tr>\n",
              "      <th>max</th>\n",
              "      <td>4097.000000</td>\n",
              "      <td>1.000000</td>\n",
              "      <td>1.000000</td>\n",
              "      <td>3.000000</td>\n",
              "      <td>95.000000</td>\n",
              "      <td>67.000000</td>\n",
              "      <td>50.000000</td>\n",
              "      <td>3.000000</td>\n",
              "      <td>2.000000</td>\n",
              "    </tr>\n",
              "  </tbody>\n",
              "</table>\n",
              "</div>"
            ],
            "text/plain": [
              "       Estimated_Insects_Count     Crop_Type     Soil_Type  \\\n",
              "count             88858.000000  88858.000000  88858.000000   \n",
              "mean               1399.012210      0.284375      0.458417   \n",
              "std                 849.048781      0.451119      0.498271   \n",
              "min                 150.000000      0.000000      0.000000   \n",
              "25%                 731.000000      0.000000      0.000000   \n",
              "50%                1212.000000      0.000000      0.000000   \n",
              "75%                1898.000000      1.000000      1.000000   \n",
              "max                4097.000000      1.000000      1.000000   \n",
              "\n",
              "       Pesticide_Use_Category  Number_Doses_Week  Number_Weeks_Used  \\\n",
              "count            88858.000000       88858.000000       88858.000000   \n",
              "mean                 2.264186          25.849952          28.623970   \n",
              "std                  0.461772          15.554428          11.747567   \n",
              "min                  1.000000           0.000000           0.000000   \n",
              "25%                  2.000000          15.000000          20.000000   \n",
              "50%                  2.000000          20.000000          28.623970   \n",
              "75%                  3.000000          40.000000          36.000000   \n",
              "max                  3.000000          95.000000          67.000000   \n",
              "\n",
              "       Number_Weeks_Quit        Season   Crop_Damage  \n",
              "count       88858.000000  88858.000000  88858.000000  \n",
              "mean            9.589986      1.896959      0.190562  \n",
              "std             9.900631      0.701322      0.454215  \n",
              "min             0.000000      1.000000      0.000000  \n",
              "25%             0.000000      1.000000      0.000000  \n",
              "50%             7.000000      2.000000      0.000000  \n",
              "75%            16.000000      2.000000      0.000000  \n",
              "max            50.000000      3.000000      2.000000  "
            ]
          },
          "execution_count": 191,
          "metadata": {},
          "output_type": "execute_result"
        }
      ],
      "source": [
        "#Lets use the describe function \n",
        "df.describe()"
      ]
    },
    {
      "cell_type": "markdown",
      "metadata": {
        "id": "6L8CVQwMO92o"
      },
      "source": [
        "##### Observations:\n",
        "    \n",
        "    1.Clearly some outliers are present in Insect_Count ,doses_week and number_weeks_quit columns.\n",
        "    "
      ]
    },
    {
      "cell_type": "code",
      "execution_count": null,
      "metadata": {
        "id": "HJfxnZrpO92o",
        "outputId": "cfcd7c8a-454b-44c4-d930-f8ea4c0bbc3a"
      },
      "outputs": [
        {
          "data": {
            "text/plain": [
              "Estimated_Insects_Count      int64\n",
              "Crop_Type                    int64\n",
              "Soil_Type                    int64\n",
              "Pesticide_Use_Category       int64\n",
              "Number_Doses_Week            int64\n",
              "Number_Weeks_Used          float64\n",
              "Number_Weeks_Quit            int64\n",
              "Season                       int64\n",
              "Crop_Damage                  int64\n",
              "dtype: object"
            ]
          },
          "execution_count": 192,
          "metadata": {},
          "output_type": "execute_result"
        }
      ],
      "source": [
        "#Dropping ID and Source column from the data for outlier analysis\n",
        "df.drop(columns=[\"ID\",\"source\"],axis=1,inplace=True)\n",
        "df.dtypes"
      ]
    },
    {
      "cell_type": "code",
      "execution_count": null,
      "metadata": {
        "scrolled": true,
        "id": "dwH7HztIO92o",
        "outputId": "a0eb6edd-dc54-440e-9bc8-ebe6a4984bf2"
      },
      "outputs": [
        {
          "data": {
            "text/plain": [
              "Estimated_Insects_Count       AxesSubplot(0.125,0.749828;0.133621x0.130172)\n",
              "Crop_Type                  AxesSubplot(0.285345,0.749828;0.133621x0.130172)\n",
              "Soil_Type                   AxesSubplot(0.44569,0.749828;0.133621x0.130172)\n",
              "Pesticide_Use_Category     AxesSubplot(0.606034,0.749828;0.133621x0.130172)\n",
              "Number_Doses_Week          AxesSubplot(0.766379,0.749828;0.133621x0.130172)\n",
              "Number_Weeks_Used             AxesSubplot(0.125,0.593621;0.133621x0.130172)\n",
              "Number_Weeks_Quit          AxesSubplot(0.285345,0.593621;0.133621x0.130172)\n",
              "Season                      AxesSubplot(0.44569,0.593621;0.133621x0.130172)\n",
              "Crop_Damage                AxesSubplot(0.606034,0.593621;0.133621x0.130172)\n",
              "dtype: object"
            ]
          },
          "execution_count": 193,
          "metadata": {},
          "output_type": "execute_result"
        },
        {
          "data": {
            "image/png": "[encoded data removed]",
            "text/plain": [
              "<Figure size 1080x1080 with 25 Axes>"
            ]
          },
          "metadata": {
            "needs_background": "light"
          },
          "output_type": "display_data"
        }
      ],
      "source": [
        "#Now we will check for outliers using boxplot\n",
        "df.plot(kind=\"box\",subplots=True,layout=(5,5),figsize=(15,15))"
      ]
    },
    {
      "cell_type": "code",
      "execution_count": null,
      "metadata": {
        "id": "J8zaj48_O92o"
      },
      "outputs": [],
      "source": [
        "#now finding the mean value of each column and replacing with outlier value\n",
        "df.loc[df['Number_Weeks_Used']>55,'Number_Weeks_Used'] = np.mean(df[\"Number_Weeks_Used\"])\n",
        "df.loc[df['Estimated_Insects_Count']>3500,'Estimated_Insects_Count'] = np.mean(df[\"Estimated_Insects_Count\"])\n",
        "df.loc[df['Number_Weeks_Quit']>40,'Number_Weeks_Quit'] = np.mean(df[\"Number_Weeks_Quit\"])\n",
        "df.loc[df['Number_Doses_Week']>80,'Number_Doses_Week'] = np.mean(df[\"Number_Doses_Week\"])\n",
        "    "
      ]
    },
    {
      "cell_type": "code",
      "execution_count": null,
      "metadata": {
        "scrolled": true,
        "id": "MBEH8vTpO92o",
        "outputId": "01435df6-786d-4437-9c87-f05cc310f50d"
      },
      "outputs": [
        {
          "data": {
            "text/plain": [
              "Estimated_Insects_Count       AxesSubplot(0.125,0.749828;0.133621x0.130172)\n",
              "Crop_Type                  AxesSubplot(0.285345,0.749828;0.133621x0.130172)\n",
              "Soil_Type                   AxesSubplot(0.44569,0.749828;0.133621x0.130172)\n",
              "Pesticide_Use_Category     AxesSubplot(0.606034,0.749828;0.133621x0.130172)\n",
              "Number_Doses_Week          AxesSubplot(0.766379,0.749828;0.133621x0.130172)\n",
              "Number_Weeks_Used             AxesSubplot(0.125,0.593621;0.133621x0.130172)\n",
              "Number_Weeks_Quit          AxesSubplot(0.285345,0.593621;0.133621x0.130172)\n",
              "Season                      AxesSubplot(0.44569,0.593621;0.133621x0.130172)\n",
              "Crop_Damage                AxesSubplot(0.606034,0.593621;0.133621x0.130172)\n",
              "dtype: object"
            ]
          },
          "execution_count": 195,
          "metadata": {},
          "output_type": "execute_result"
        },
        {
          "data": {
            "image/png": "[encoded data removed]",
            "text/plain": [
              "<Figure size 1080x1080 with 25 Axes>"
            ]
          },
          "metadata": {
            "needs_background": "light"
          },
          "output_type": "display_data"
        }
      ],
      "source": [
        "#Now we will check for outliers using boxplot\n",
        "df.plot(kind=\"box\",subplots=True,layout=(5,5),figsize=(15,15))\n",
        "\n",
        "#we can see that outliers have been removed in Total Volume , Large, Small and Total bags"
      ]
    },
    {
      "cell_type": "markdown",
      "metadata": {
        "id": "tDill6d7O92o"
      },
      "source": [
        "##### Observations:\n",
        "    1.we can see that outliers have been removed in Insect_Count, Number_Doses_Weeks,Number_Weeks_Quit\n",
        "    "
      ]
    },
    {
      "cell_type": "markdown",
      "metadata": {
        "id": "0KOc0ppfO92p"
      },
      "source": [
        "## Skew Analysis"
      ]
    },
    {
      "cell_type": "code",
      "execution_count": null,
      "metadata": {
        "id": "gN9CmAvuO92p",
        "outputId": "113ecc73-2335-44fb-f277-f926d24b3375"
      },
      "outputs": [
        {
          "data": {
            "text/plain": [
              "Estimated_Insects_Count    0.647325\n",
              "Crop_Type                  0.955978\n",
              "Soil_Type                  0.166914\n",
              "Pesticide_Use_Category     0.779488\n",
              "Number_Doses_Week          0.911044\n",
              "Number_Weeks_Used          0.117167\n",
              "Number_Weeks_Quit          0.831183\n",
              "Season                     0.145228\n",
              "Crop_Damage                2.367816\n",
              "dtype: float64"
            ]
          },
          "execution_count": 196,
          "metadata": {},
          "output_type": "execute_result"
        }
      ],
      "source": [
        "df.skew()"
      ]
    },
    {
      "cell_type": "code",
      "execution_count": null,
      "metadata": {
        "id": "Je8ZK9F6O92p",
        "outputId": "12f00c63-e886-474b-baa7-79e3bb8a811f"
      },
      "outputs": [
        {
          "data": {
            "text/plain": [
              "array([[<matplotlib.axes._subplots.AxesSubplot object at 0x000001EE1CA1F6D0>,\n",
              "        <matplotlib.axes._subplots.AxesSubplot object at 0x000001EE1CA59520>,\n",
              "        <matplotlib.axes._subplots.AxesSubplot object at 0x000001EE1CBF5760>,\n",
              "        <matplotlib.axes._subplots.AxesSubplot object at 0x000001EE1CC1FEE0>],\n",
              "       [<matplotlib.axes._subplots.AxesSubplot object at 0x000001EE1CC536A0>,\n",
              "        <matplotlib.axes._subplots.AxesSubplot object at 0x000001EE1CC7DD90>,\n",
              "        <matplotlib.axes._subplots.AxesSubplot object at 0x000001EE1CC7DE80>,\n",
              "        <matplotlib.axes._subplots.AxesSubplot object at 0x000001EE1F0A1670>],\n",
              "       [<matplotlib.axes._subplots.AxesSubplot object at 0x000001EE1F101520>,\n",
              "        <matplotlib.axes._subplots.AxesSubplot object at 0x000001EE1F129BE0>,\n",
              "        <matplotlib.axes._subplots.AxesSubplot object at 0x000001EE1F153550>,\n",
              "        <matplotlib.axes._subplots.AxesSubplot object at 0x000001EE1F17BCD0>],\n",
              "       [<matplotlib.axes._subplots.AxesSubplot object at 0x000001EE1F1B0490>,\n",
              "        <matplotlib.axes._subplots.AxesSubplot object at 0x000001EE1F1D9C10>,\n",
              "        <matplotlib.axes._subplots.AxesSubplot object at 0x000001EE1F2103D0>,\n",
              "        <matplotlib.axes._subplots.AxesSubplot object at 0x000001EE1F23BB50>]],\n",
              "      dtype=object)"
            ]
          },
          "execution_count": 197,
          "metadata": {},
          "output_type": "execute_result"
        },
        {
          "data": {
            "image/png": "[encoded data removed]",
            "text/plain": [
              "<Figure size 1080x1080 with 16 Axes>"
            ]
          },
          "metadata": {
            "needs_background": "light"
          },
          "output_type": "display_data"
        }
      ],
      "source": [
        "df.hist(figsize=(15,15), layout=(4,4), bins=20)\n",
        "    "
      ]
    },
    {
      "cell_type": "markdown",
      "metadata": {
        "id": "tsjgBrZ5O92p"
      },
      "source": [
        "##### Observations:\n",
        "    \n",
        "    1. We can see that all the data is normally distributed. \n",
        "    "
      ]
    },
    {
      "cell_type": "markdown",
      "metadata": {
        "id": "jaw9VnSfO92p"
      },
      "source": [
        "## Classifier Modelling"
      ]
    },
    {
      "cell_type": "code",
      "execution_count": null,
      "metadata": {
        "id": "uDx7o5CpO92p"
      },
      "outputs": [],
      "source": [
        "#Importing libraries\n",
        "from sklearn.metrics import accuracy_score,classification_report,confusion_matrix,roc_auc_score,roc_curve\n",
        "from sklearn.linear_model import LogisticRegression\n",
        "from sklearn.naive_bayes import MultinomialNB\n",
        "from sklearn.neighbors import KNeighborsClassifier\n",
        "from sklearn.ensemble import RandomForestClassifier\n",
        "from sklearn.svm import SVC\n",
        "from sklearn.tree import DecisionTreeClassifier\n",
        "from sklearn.ensemble import AdaBoostClassifier,GradientBoostingClassifier\n",
        "from sklearn.model_selection import cross_val_score\n",
        "from scipy.stats import zscore\n",
        "from sklearn.preprocessing import LabelEncoder,StandardScaler\n",
        "from sklearn.model_selection import train_test_split,GridSearchCV\n",
        "from sklearn.decomposition import PCA\n",
        "from sklearn.naive_bayes import GaussianNB"
      ]
    },
    {
      "cell_type": "code",
      "execution_count": null,
      "metadata": {
        "id": "FVFOS49iO92q"
      },
      "outputs": [],
      "source": [
        "# Dropping region and Day from x for classifcation dataset\n",
        "#Assigning the value of x for testing and training\n",
        "df_xc=df.drop(columns=['Crop_Damage'])\n",
        "yc=df[[\"Crop_Damage\"]]"
      ]
    },
    {
      "cell_type": "code",
      "execution_count": null,
      "metadata": {
        "id": "mie7ZE9yO92q"
      },
      "outputs": [],
      "source": [
        "#Bring every column to common scale by using Standard Scaler\n",
        "from sklearn.preprocessing import StandardScaler\n",
        "sc = StandardScaler()\n",
        "xc = sc.fit_transform(df_xc)\n",
        "df_xc=pd.DataFrame(xc,columns=df_xc.columns)"
      ]
    },
    {
      "cell_type": "code",
      "execution_count": null,
      "metadata": {
        "id": "ZDF1xHelO92q"
      },
      "outputs": [],
      "source": [
        "#defining a function to find accuracy score, crossvalidation score for the given dataset\n",
        "def max_acc_score(names,model_c,df_xc,yc):\n",
        "    accuracy_scr_max = 0\n",
        "    for r_state in range(42,100):\n",
        "        train_xc,test_xc,train_yc,test_yc = train_test_split(df_xc,yc,random_state = r_state,test_size = 0.33,stratify = yc)\n",
        "        model_c.fit(train_xc,train_yc)\n",
        "        accuracy_scr = accuracy_score(test_yc,model_c.predict(test_xc))\n",
        "        if accuracy_scr> accuracy_scr_max:\n",
        "            accuracy_scr_max=accuracy_scr\n",
        "            final_state = r_state\n",
        "            final_model = model_c\n",
        "            mean_acc = cross_val_score(final_model,df_xc,yc,cv=5,scoring=\"accuracy\").mean()\n",
        "            std_dev = cross_val_score(final_model,df_xc,yc,cv=5,scoring=\"accuracy\").std()\n",
        "            cross_val = cross_val_score(final_model,df_xc,yc,cv=5,scoring=\"accuracy\")\n",
        "    print('\\033[1m',\"Results for model : \",names,'\\n','\\033[0m'\n",
        "          \"max accuracy score is\" , accuracy_scr_max ,'\\n',\n",
        "          \"Mean accuracy score is : \",mean_acc,'\\n',\n",
        "          \"Std deviation score is : \",std_dev,'\\n',\n",
        "          \"Cross validation scores are :  \" ,cross_val) \n",
        "    print(\"*\"*100)"
      ]
    },
    {
      "cell_type": "code",
      "execution_count": null,
      "metadata": {
        "id": "pdyM6uSdO92q",
        "outputId": "d2662376-c0ff-4fcf-b49b-7b4e02b75fb4"
      },
      "outputs": [
        {
          "name": "stdout",
          "output_type": "stream",
          "text": [
            "\u001b[1m Results for model :  Random Forest \n",
            " \u001b[0mmax accuracy score is 0.827308689128359 \n",
            " Mean accuracy score is :  0.8227283851917901 \n",
            " Std deviation score is :  0.0017259364106887492 \n",
            " Cross validation scores are :   [0.82568085 0.82286743 0.82191087 0.82161949 0.82297001]\n",
            "****************************************************************************************************\n",
            "\u001b[1m Results for model :  KNN \n",
            " \u001b[0mmax accuracy score is 0.8304119492565817 \n",
            " Mean accuracy score is :  0.8270498878034861 \n",
            " Std deviation score is :  0.0017037082599439077 \n",
            " Cross validation scores are :   [0.82939455 0.82787531 0.82494936 0.82780935 0.82522087]\n",
            "****************************************************************************************************\n",
            "\u001b[1m Results for model :  Decision Tree Classifier \n",
            " \u001b[0mmax accuracy score is 0.7536488882826354 \n",
            " Mean accuracy score is :  0.7475973026583367 \n",
            " Std deviation score is :  0.0026009823178113167 \n",
            " Cross validation scores are :   [0.75326356 0.74611749 0.74651137 0.7461032  0.74852287]\n",
            "****************************************************************************************************\n",
            "\u001b[1m Results for model :  Gaussian NB \n",
            " \u001b[0mmax accuracy score is 0.8249215659528032 \n",
            " Mean accuracy score is :  0.8212091186402223 \n",
            " Std deviation score is :  0.0017104126392989223 \n",
            " Cross validation scores are :   [0.8239928  0.81859104 0.82117938 0.82105678 0.82122559]\n",
            "****************************************************************************************************\n"
          ]
        }
      ],
      "source": [
        "#Now by using multiple Algorithms we are calculating the best Algo which suit best for our data set \n",
        "accuracy_scr_max = []\n",
        "accuracy=[]\n",
        "std_dev=[]\n",
        "mean_acc=[]\n",
        "cross_val=[]\n",
        "models=[]\n",
        "models.append(('Random Forest', RandomForestClassifier()))\n",
        "models.append(('KNN', KNeighborsClassifier()))\n",
        "models.append(('Decision Tree Classifier', DecisionTreeClassifier()))\n",
        "models.append(('Gaussian NB',GaussianNB()))\n",
        "\n",
        "\n",
        "for names,model_c in models:\n",
        "    max_acc_score(names,model_c,df_xc,yc)\n",
        "   "
      ]
    },
    {
      "cell_type": "markdown",
      "metadata": {
        "id": "YtcrNdgkO92q"
      },
      "source": [
        "##### Observations: \n",
        "a. From initial model accuracy values we see that KNN are performing better than others.  \n",
        "b. It has maximum accuracy score and minimum standard deviations.   \n",
        "c. DTC is the worst performer with 74% accuracy."
      ]
    },
    {
      "cell_type": "code",
      "execution_count": null,
      "metadata": {
        "id": "GN1SfPTPO92q",
        "outputId": "a9214c8b-f312-449c-d9c0-d5c951ee883d"
      },
      "outputs": [
        {
          "data": {
            "text/plain": [
              "{'n_neighbors': 22}"
            ]
          },
          "execution_count": 203,
          "metadata": {},
          "output_type": "execute_result"
        }
      ],
      "source": [
        "# Estimating best n_neighbors using grid search CV for KNeighborsClassifier\n",
        "\n",
        "kNN=KNeighborsClassifier()\n",
        "parameters={\"n_neighbors\":range(2,30)}\n",
        "clf = GridSearchCV(kNN, parameters, cv=5,scoring=\"accuracy\")\n",
        "clf.fit(df_xc,yc)\n",
        "clf.best_params_"
      ]
    },
    {
      "cell_type": "code",
      "execution_count": null,
      "metadata": {
        "id": "3_HSKBQYO92r",
        "outputId": "d7e9b7f3-5fea-4f3c-e4b0-30910a22b7d0"
      },
      "outputs": [
        {
          "name": "stdout",
          "output_type": "stream",
          "text": [
            "\u001b[1m Results for model :  KNeighbors Classifier \n",
            " \u001b[0mmax accuracy score is 0.8432001091256309 \n",
            " Mean accuracy score is :  0.842028849081089 \n",
            " Std deviation score is :  0.0012047855035650036 \n",
            " Cross validation scores are :   [0.84284267 0.84318028 0.84059194 0.84300264 0.8405267 ]\n",
            "****************************************************************************************************\n"
          ]
        }
      ],
      "source": [
        "#Again running KNeighborsClassifier with n_neighbor = 22\n",
        "kNN=KNeighborsClassifier(n_neighbors=22)\n",
        "max_acc_score(\"KNeighbors Classifier\",kNN,df_xc,yc)"
      ]
    },
    {
      "cell_type": "code",
      "execution_count": null,
      "metadata": {
        "id": "sj7eJG7UO92r"
      },
      "outputs": [],
      "source": [
        "xc_train,xc_test,yc_train,yc_test=train_test_split(df_xc, yc,random_state = 80,test_size=0.20,stratify=yc)\n",
        "kNN.fit(xc_train,yc_train)\n",
        "yc_pred=kNN.predict(xc_test)"
      ]
    },
    {
      "cell_type": "code",
      "execution_count": null,
      "metadata": {
        "id": "RFY-Qqj5O92u",
        "outputId": "bc2cdf72-0729-4a36-df04-d6d566b5a7bb"
      },
      "outputs": [
        {
          "name": "stdout",
          "output_type": "stream",
          "text": [
            "accuracy score is :  0.8402543326581139\n",
            "classification report \n",
            "               precision    recall  f1-score   support\n",
            "\n",
            "           0       0.86      0.98      0.91     14848\n",
            "           1       0.48      0.17      0.25      2461\n",
            "           2       0.33      0.00      0.00       463\n",
            "\n",
            "    accuracy                           0.84     17772\n",
            "   macro avg       0.56      0.38      0.39     17772\n",
            "weighted avg       0.79      0.84      0.80     17772\n",
            "\n"
          ]
        },
        {
          "data": {
            "text/plain": [
              "<matplotlib.axes._subplots.AxesSubplot at 0x1ee20a883a0>"
            ]
          },
          "execution_count": 206,
          "metadata": {},
          "output_type": "execute_result"
        },
        {
          "data": {
            "image/png": "[encoded data removed]",
            "text/plain": [
              "<Figure size 432x288 with 2 Axes>"
            ]
          },
          "metadata": {
            "needs_background": "light"
          },
          "output_type": "display_data"
        }
      ],
      "source": [
        "from sklearn.metrics import confusion_matrix\n",
        "from sklearn.metrics import classification_report\n",
        "from sklearn.metrics import roc_auc_score\n",
        "\n",
        "print(\"accuracy score is : \",accuracy_score(yc_test,yc_pred))\n",
        "print(\"classification report \\n\",classification_report(yc_test,yc_pred))\n",
        "\n",
        "cnf = confusion_matrix(yc_test,yc_pred)\n",
        "sns.heatmap(cnf, annot=True, cmap = \"Blues\")"
      ]
    },
    {
      "cell_type": "markdown",
      "metadata": {
        "id": "ssm1yqrmO92u"
      },
      "source": [
        "Observations:\n",
        "\n",
        "    1.Due to abnormal distribution of data point -model is highly accurate in predicting no crop damage but needs \n",
        "    improvement in predicting pesticide crop damage.\n",
        "       \n",
        "    2.Attempting to use ADABoost Classifier to boostup accuracy of the model."
      ]
    },
    {
      "cell_type": "code",
      "execution_count": null,
      "metadata": {
        "id": "iovhDl_8O92u",
        "outputId": "d5119d81-62c2-4923-a626-d7b58006b5fe"
      },
      "outputs": [
        {
          "name": "stdout",
          "output_type": "stream",
          "text": [
            "0.8400855277965339\n",
            "[[14830    18     0]\n",
            " [ 2361   100     0]\n",
            " [  429    34     0]]\n",
            "              precision    recall  f1-score   support\n",
            "\n",
            "           0       0.84      1.00      0.91     14848\n",
            "           1       0.66      0.04      0.08      2461\n",
            "           2       0.00      0.00      0.00       463\n",
            "\n",
            "    accuracy                           0.84     17772\n",
            "   macro avg       0.50      0.35      0.33     17772\n",
            "weighted avg       0.79      0.84      0.77     17772\n",
            "\n"
          ]
        }
      ],
      "source": [
        "#Using adaboost classifier\n",
        "from sklearn.ensemble import AdaBoostClassifier\n",
        "ad=AdaBoostClassifier(n_estimators=10,learning_rate=1)\n",
        "ad.fit(xc_train,yc_train)\n",
        "ad_pred=ad.predict(xc_test)\n",
        "print(accuracy_score(yc_test,ad_pred))\n",
        "print(confusion_matrix(yc_test,ad_pred))\n",
        "print(classification_report(yc_test,ad_pred))"
      ]
    },
    {
      "cell_type": "markdown",
      "metadata": {
        "id": "Q4-iRzabO92u"
      },
      "source": [
        "#### Not much  improvement is observed by using ADABoost model.\n",
        "#### But overall it gives good accuracy among all models so we save as our final model. "
      ]
    },
    {
      "cell_type": "markdown",
      "metadata": {
        "id": "9s0xoangO92u"
      },
      "source": [
        "## Saving Final Model"
      ]
    },
    {
      "cell_type": "code",
      "execution_count": null,
      "metadata": {
        "id": "CseXC4DCO92v"
      },
      "outputs": [],
      "source": [
        "#From above we see AdaBoostClassifier is performing better so we will use it to make our final predictions.\n",
        "Outcome_pred=ad.predict(df_test)"
      ]
    },
    {
      "cell_type": "code",
      "execution_count": null,
      "metadata": {
        "id": "tWq0G-shO92v"
      },
      "outputs": [],
      "source": [
        "#Dataframe for Crop outcome prediction\n",
        "Outcome_pred=pd.DataFrame(Outcome_pred,columns=[\"Crop_Damage\"])"
      ]
    },
    {
      "cell_type": "code",
      "execution_count": null,
      "metadata": {
        "id": "TMaXWb1pO92v"
      },
      "outputs": [],
      "source": [
        "Outcome_pred.to_csv('Crop_Damage_Predictions.csv',index=False)"
      ]
    }
  ],
  "metadata": {
    "kernelspec": {
      "display_name": "Python 3",
      "language": "python",
      "name": "python3"
    },
    "language_info": {
      "codemirror_mode": {
        "name": "ipython",
        "version": 3
      },
      "file_extension": ".py",
      "mimetype": "text/x-python",
      "name": "python",
      "nbconvert_exporter": "python",
      "pygments_lexer": "ipython3",
      "version": "3.8.3"
    },
    "colab": {
      "provenance": [],
      "include_colab_link": true
    }
  },
  "nbformat": 4,
  "nbformat_minor": 0
}