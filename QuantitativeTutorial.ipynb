{
  "nbformat": 4,
  "nbformat_minor": 0,
  "metadata": {
    "colab": {
      "name": "PK_6800_Day2",
      "provenance": [],
      "include_colab_link": true
    },
    "kernelspec": {
      "name": "python3",
      "display_name": "Python 3"
    }
  },
  "cells": [
    {
      "cell_type": "markdown",
      "metadata": {
        "id": "view-in-github",
        "colab_type": "text"
      },
      "source": [
        "<a href=\"https://colab.research.google.com/github/lwschm/quantitative_tutorial/blob/main/QuantitativeTutorial.ipynb\" target=\"_parent\"><img src=\"https://colab.research.google.com/assets/colab-badge.svg\" alt=\"Open In Colab\"/></a>"
      ]
    },
    {
      "cell_type": "markdown",
      "source": [
        "# Quantitative tutorial"
      ],
      "metadata": {
        "id": "71QCGinKTAAf"
      }
    },
    {
      "cell_type": "markdown",
      "source": [
        "## Instructions\n",
        "\n",
        "- The notebook combines 'code used during lecture' with the 'Day 2 lab' assignment (see further down)\n",
        "- The lab assignment can be done largely by copying/paste/modification of the code used during the lecture\n",
        "- Please add answers/discussion/comments to the notebook as comments or text box. Do not create another file in addition.\n"
      ],
      "metadata": {
        "id": "UBjm-4D-Tg-L"
      }
    },
    {
      "cell_type": "markdown",
      "source": [
        "## Code used during lecture"
      ],
      "metadata": {
        "id": "sINvJ4ugbKhz"
      }
    },
    {
      "cell_type": "code",
      "execution_count": 3,
      "source": [
        "import matplotlib.pyplot as plt\n",
        "import numpy as np\n",
        "import pandas as pd\n",
        "from sklearn.metrics import mean_squared_error, r2_score\n",
        "from sklearn.model_selection import train_test_split\n",
        "from sklearn.linear_model import LogisticRegression\n",
        "from sklearn.preprocessing import MinMaxScaler\n",
        "from sklearn.metrics import confusion_matrix\n",
        "from sklearn.metrics import roc_curve, auc\n",
        "from sklearn import tree\n",
        "\n"
      ],
      "outputs": [],
      "metadata": {
        "id": "xn9LO_jCSar8"
      }
    },
    {
      "cell_type": "code",
      "execution_count": 4,
      "source": [
        "# Set the numpy random seed\n",
        "np.random.seed(100)"
      ],
      "outputs": [],
      "metadata": {
        "id": "pHtbUP2Uf_pO"
      }
    },
    {
      "cell_type": "code",
      "execution_count": 9,
      "source": [
        "# Download data\n",
        "!wget -nc https://ilr-ml.s3.eu-central-1.amazonaws.com/brazil_all_data_v2.gz"
      ],
      "outputs": [
        {
          "output_type": "stream",
          "name": "stdout",
          "text": [
            "--2023-01-29 15:12:16--  https://ilr-ml.s3.eu-central-1.amazonaws.com/brazil_all_data_v2.gz\n",
            "Resolving ilr-ml.s3.eu-central-1.amazonaws.com (ilr-ml.s3.eu-central-1.amazonaws.com)... 52.219.72.108\n",
            "Connecting to ilr-ml.s3.eu-central-1.amazonaws.com (ilr-ml.s3.eu-central-1.amazonaws.com)|52.219.72.108|:443... connected.\n",
            "HTTP request sent, awaiting response... 200 OK\n",
            "Length: 283350352 (270M) [application/x-gzip]\n",
            "Saving to: ‘brazil_all_data_v2.gz’\n",
            "\n",
            "brazil_all_data_v2. 100%[===================>] 270.22M  28.6MB/s    in 10s     \n",
            "\n",
            "2023-01-29 15:12:27 (26.5 MB/s) - ‘brazil_all_data_v2.gz’ saved [283350352/283350352]\n",
            "\n"
          ]
        }
      ],
      "metadata": {
        "id": "gWJ6IasttlnW",
        "outputId": "c66f8689-52d0-46d9-d803-3c5960f8877a",
        "colab": {
          "base_uri": "https://localhost:8080/"
        }
      }
    },
    {
      "cell_type": "code",
      "execution_count": 11,
      "source": [
        "# Load data with pandas into a dataframe \n",
        "df = pd.read_parquet('brazil_all_data_v2.gz')"
      ],
      "outputs": [],
      "metadata": {
        "id": "d8QMuJ64tnh9"
      }
    },
    {
      "cell_type": "code",
      "execution_count": 12,
      "source": [
        "# Define binary variable for deforestration in 2018\n",
        "df['D_defor_2018'] = df['defor_2018']>0\n",
        "Y_all = df['D_defor_2018']"
      ],
      "outputs": [],
      "metadata": {
        "id": "DN3evVUDoiVx"
      }
    },
    {
      "cell_type": "code",
      "execution_count": 13,
      "source": [
        "# Define a list of features names (explantory variables)\n",
        "lstX = [\n",
        "  'wdpa_2017',\n",
        "  'population_2015',\n",
        "  'chirps_2017',\n",
        "  'defor_2017',\n",
        "  'maize',\n",
        "  'soy',\n",
        "  'sugarcane',\n",
        "  'perc_treecover',\n",
        "  'perm_water',\n",
        "  'travel_min',\n",
        "  'cropland',\n",
        "  'mean_elev',\n",
        "  'sd_elev',\n",
        "  'near_road',\n",
        "  'defor_2017_lag_1st_order',\n",
        "  'wdpa_2017_lag_1st_order',\n",
        "  'chirps_2017_lag_1st_order',\n",
        "  'population_2015_lag_1st_order',\n",
        "  'maize_lag_1st_order',\n",
        "  'soy_lag_1st_order',\n",
        "  'sugarcane_lag_1st_order',\n",
        "  'perc_treecover_lag_1st_order',\n",
        "  'perm_water_lag_1st_order',\n",
        "  'travel_min_lag_1st_order',\n",
        "  'cropland_lag_1st_order',\n",
        "  'mean_elev_lag_1st_order',\n",
        "  'sd_elev_lag_1st_order',\n",
        "  'near_road_lag_1st_order',\n",
        " ]\n",
        "\n",
        "# Get the explanatory Variables\n",
        "X_all =  df.loc[:,lstX]"
      ],
      "outputs": [],
      "metadata": {
        "id": "z2ZGZoInoHAV"
      }
    },
    {
      "cell_type": "code",
      "execution_count": 14,
      "source": [
        "# Split the data into train and test data using sklearn train_test_split object\n",
        "#   (see: https://scikit-learn.org/stable/modules/generated/sklearn.model_selection.train_test_split.html)\n",
        "\n",
        "#   Note: This randomly split the data in 80% train and 20% test data\n",
        "X_train_raw, X_test_raw, Y_train, Y_test = train_test_split(X_all, Y_all, test_size = 0.2)"
      ],
      "outputs": [],
      "metadata": {
        "id": "yZ5TrMhZ2pxs"
      }
    },
    {
      "cell_type": "code",
      "execution_count": 15,
      "source": [
        "# Scale data to 0-1 range using sklearn MinMaxScalar object \n",
        "# (see: https://scikit-learn.org/stable/modules/generated/sklearn.preprocessing.MinMaxScaler.html) \n",
        "scaler = MinMaxScaler()\n",
        "# Use only the train data to fit the MinMaxScalar \n",
        "scaler.fit(X_train_raw)\n",
        "\n",
        "# Apply the MinMax transformation to the train and test data \n",
        "X_train = scaler.transform(X_train_raw)\n",
        "X_test = scaler.transform(X_test_raw)\n",
        "# Note the depended variable does not need to be scaled as it is a binary variable anyway"
      ],
      "outputs": [],
      "metadata": {
        "id": "l9ijNiMD2nH9"
      }
    },
    {
      "cell_type": "markdown",
      "source": [
        "Run logit on deforestation binary variable"
      ],
      "metadata": {
        "id": "hRd3KIDXp152"
      }
    },
    {
      "cell_type": "code",
      "execution_count": 16,
      "source": [
        "# Fit a logistic regression model using sklearn \n",
        "# (see: https://scikit-learn.org/stable/modules/generated/sklearn.linear_model.LogisticRegression.html)\n",
        "\n",
        "# Create the model object\n",
        "modelLg = LogisticRegression(random_state=0,penalty='none',fit_intercept=True,max_iter=1000)\n",
        "# Fit the model using the training data\n",
        "modelLg.fit(X_train, Y_train)"
      ],
      "outputs": [
        {
          "output_type": "execute_result",
          "data": {
            "text/plain": [
              "LogisticRegression(max_iter=1000, penalty='none', random_state=0)"
            ]
          },
          "metadata": {},
          "execution_count": 16
        }
      ],
      "metadata": {
        "id": "dSjHfg6PmxDA",
        "outputId": "63967fa7-6094-4978-90ba-8a5474c77d3f",
        "colab": {
          "base_uri": "https://localhost:8080/"
        }
      }
    },
    {
      "cell_type": "code",
      "execution_count": 17,
      "source": [
        "# Define a function that prints the model statistics.\n",
        "# We will use the function below to always get the same model stats for each of\n",
        "# the model the we will estimate below.\n",
        "def printOutput(mod,X_train,Y_train,X_test,Y_test):\n",
        "  # view results\n",
        "  print('Score in train', mod.score(X_train, Y_train))\n",
        "  print('Score in test', mod.score(X_test, Y_test))\n",
        "\n",
        "  Y_test_had_Tree = mod.predict(X_test)\n",
        "\n",
        "  print('\\nConfusion Matrix')\n",
        "  print(pd.DataFrame(confusion_matrix(Y_test, Y_test_had_Tree),\n",
        "            index=pd.MultiIndex.from_arrays([['actual','actual'], ['False','True']]),\n",
        "            columns=pd.MultiIndex.from_arrays([['predicted','predicted'], ['False','True']])))"
      ],
      "outputs": [],
      "metadata": {
        "id": "UOuCMR7V-_Ta"
      }
    },
    {
      "cell_type": "code",
      "execution_count": 18,
      "source": [
        "# Use the function to print the model statistics for our logit model \n",
        "printOutput(modelLg,X_train,Y_train,X_test,Y_test)\n",
        "\n",
        "# Compute ROC curve and ROC area for each class\n",
        "\n",
        "# Get the predicted probabiltities \n",
        "Y_score = modelLg.decision_function(X_test)\n",
        "\n",
        "# Get true positive and false positive rate\n",
        "# See: https://scikit-learn.org/stable/modules/generated/sklearn.metrics.roc_curve.html\n",
        "fpr_Lg, tpr_Lg, _ = roc_curve(Y_test, Y_score)\n",
        "\n",
        "# Get the Area under the cureve (AUC)\n",
        "# See: https://scikit-learn.org/stable/modules/generated/sklearn.metrics.auc.html\n",
        "roc_auc_Lg = auc(fpr_Lg, tpr_Lg)\n",
        "\n",
        "print('\\nROC AUC', roc_auc_Lg)"
      ],
      "outputs": [
        {
          "output_type": "stream",
          "name": "stdout",
          "text": [
            "Score in train 0.7861336720812995\n",
            "Score in test 0.7838281187484997\n",
            "\n",
            "Confusion Matrix\n",
            "             predicted      \n",
            "                 False  True\n",
            "actual False     36625  1314\n",
            "       True       9492  2557\n",
            "\n",
            "ROC AUC 0.7652691452966887\n"
          ]
        }
      ],
      "metadata": {
        "id": "toJ0q4YvoEs9",
        "outputId": "0c69445f-af0a-40b5-e775-2eec0949a402",
        "colab": {
          "base_uri": "https://localhost:8080/"
        }
      }
    },
    {
      "cell_type": "code",
      "execution_count": 19,
      "source": [
        "# Plot the ROC curve\n",
        "plt.figure()\n",
        "lw = 2\n",
        "plt.plot(fpr_Lg, tpr_Lg, color='darkorange',\n",
        "         lw=lw, label='Logistic ROC curve (area = %0.2f' % roc_auc_Lg)\n",
        "plt.plot([0, 1], [0, 1], color='navy', lw=lw, linestyle='--')\n",
        "plt.xlim([0.0, 1.0])\n",
        "plt.ylim([0.0, 1.05])\n",
        "plt.xlabel('False Positive Rate')\n",
        "plt.ylabel('True Positive Rate')\n",
        "plt.title('Receiver operating characteristic example')\n",
        "plt.legend(loc=\"lower right\")\n",
        "plt.show()"
      ],
      "outputs": [
        {
          "output_type": "display_data",
          "data": {
            "text/plain": [
              "<Figure size 432x288 with 1 Axes>"
            ],
            "image/png": "[encoded data removed]"
          },
          "metadata": {
            "needs_background": "light"
          }
        }
      ],
      "metadata": {
        "id": "dR7Zu0K_6PKO",
        "outputId": "f5dd5490-524c-4ee3-b792-feca2e9ce0bd",
        "colab": {
          "base_uri": "https://localhost:8080/",
          "height": 295
        }
      }
    },
    {
      "cell_type": "markdown",
      "source": [
        "Now run a decision tree using the same specification"
      ],
      "metadata": {
        "id": "mWCB8SaR1Qlm"
      }
    },
    {
      "cell_type": "code",
      "execution_count": 20,
      "source": [
        "# Fit a decision tree using sklearn\n",
        "# (see https://scikit-learn.org/stable/modules/generated/sklearn.tree.DecisionTreeClassifier.html)\n",
        "\n",
        "# Define a model object\n",
        "modelTree = tree.DecisionTreeClassifier()\n",
        "# Fit the model\n",
        "modelTree = modelTree.fit(X_train, Y_train)"
      ],
      "outputs": [],
      "metadata": {
        "id": "9C2g9xH8qFig"
      }
    },
    {
      "cell_type": "code",
      "execution_count": 21,
      "source": [
        "# Use the function to print the model statistics for our tree model \n",
        "printOutput(modelTree,X_train,Y_train,X_test,Y_test)"
      ],
      "outputs": [
        {
          "output_type": "stream",
          "name": "stdout",
          "text": [
            "Score in train 1.0\n",
            "Score in test 0.7643034328238777\n",
            "\n",
            "Confusion Matrix\n",
            "             predicted      \n",
            "                 False  True\n",
            "actual False     31990  5949\n",
            "       True       5833  6216\n"
          ]
        }
      ],
      "metadata": {
        "id": "X45zdwZblFDK",
        "outputId": "a24708f8-f1a8-43bc-c752-ddf52f378684",
        "colab": {
          "base_uri": "https://localhost:8080/"
        }
      }
    },
    {
      "cell_type": "markdown",
      "source": [
        "Run the same model using  a random forest"
      ],
      "metadata": {
        "id": "SUu8fjY-2P6m"
      }
    },
    {
      "cell_type": "code",
      "execution_count": 22,
      "source": [
        "# run a random forest using sklearn and default hyperparameters (note, this will take a few minutes)\n",
        "# (see https://scikit-learn.org/stable/modules/generated/sklearn.ensemble.RandomForestClassifier.html)\n",
        "from sklearn.ensemble import RandomForestClassifier\n",
        "\n",
        "# Create model object\n",
        "modelForest = RandomForestClassifier()\n",
        "# Fit model\n",
        "modelForest = modelForest.fit(X_train, Y_train)"
      ],
      "outputs": [],
      "metadata": {
        "id": "HOeVa-8z2KNL"
      }
    },
    {
      "cell_type": "code",
      "execution_count": 23,
      "source": [
        "# Print model output stats\n",
        "printOutput(modelForest,X_train,Y_train,X_test,Y_test)\n"
      ],
      "outputs": [
        {
          "output_type": "stream",
          "name": "stdout",
          "text": [
            "Score in train 0.9999749939985596\n",
            "Score in test 0.8354605105225255\n",
            "\n",
            "Confusion Matrix\n",
            "             predicted      \n",
            "                 False  True\n",
            "actual False     35571  2368\n",
            "       True       5857  6192\n"
          ]
        }
      ],
      "metadata": {
        "id": "OvZPmhHH96Yv",
        "outputId": "ebba2071-d19b-4343-cc35-afec12dfc03e",
        "colab": {
          "base_uri": "https://localhost:8080/"
        }
      }
    },
    {
      "cell_type": "code",
      "execution_count": 24,
      "source": [
        "# ====================\n",
        "# Discuss in the group\n",
        "# ====================\n",
        "# What do you conclude from the model outcome. Is this a \n",
        "# useful model. Compare the results to the logit outcomes. "
      ],
      "outputs": [],
      "metadata": {
        "id": "GyMYFqribubG"
      }
    },
    {
      "cell_type": "code",
      "execution_count": 25,
      "source": [
        "# Plot ROC curve \n",
        "# Get the predicted probabiltities \n",
        "Y_scoreRF = modelForest.predict_proba(X_test)[:,1]\n",
        "\n",
        "# Get true positive and false positive rate\n",
        "fpr_RF, tpr_RF, _ = roc_curve(Y_test, Y_scoreRF)\n",
        "\n",
        "# Get the Area under the cureve (AUC)\n",
        "roc_auc_RF = auc(fpr_RF, tpr_RF)\n",
        "\n",
        "\n",
        "plt.figure()\n",
        "lw = 2\n",
        "plt.plot(fpr_RF, tpr_RF, \n",
        "         lw=lw, label='RF ROC curve (area = %0.2f' % roc_auc_RF)\n",
        "plt.plot(fpr_Lg, tpr_Lg, \n",
        "         lw=lw, label='Logistic ROC curve (area = %0.2f' % roc_auc_Lg)\n",
        "plt.plot([0, 1], [0, 1], color='navy', lw=lw, linestyle='--')\n",
        "plt.xlim([0.0, 1.0])\n",
        "plt.ylim([0.0, 1.05])\n",
        "plt.xlabel('False Positive Rate')\n",
        "plt.ylabel('True Positive Rate')\n",
        "plt.title('Receiver operating characteristic example')\n",
        "plt.legend(loc=\"lower right\")\n",
        "plt.show()"
      ],
      "outputs": [
        {
          "output_type": "display_data",
          "data": {
            "text/plain": [
              "<Figure size 432x288 with 1 Axes>"
            ],
            "image/png": "[encoded data removed]"
          },
          "metadata": {
            "needs_background": "light"
          }
        }
      ],
      "metadata": {
        "id": "1lqaLHLVdvKl",
        "outputId": "d696880a-3df7-4b2f-a7f2-63e69f39774c",
        "colab": {
          "base_uri": "https://localhost:8080/",
          "height": 295
        }
      }
    },
    {
      "cell_type": "markdown",
      "source": [
        "Visualizing the results"
      ],
      "metadata": {
        "id": "bh5EZajJsA8N"
      }
    },
    {
      "cell_type": "code",
      "execution_count": 26,
      "source": [
        "# Generate a feature importance graph for the forest\n",
        "# Adjusted based on  https://scikit-learn.org/stable/auto_examples/ensemble/plot_forest_importances.html\n",
        "\n",
        "importances = modelForest.feature_importances_\n",
        "std = np.std([tree.feature_importances_ for tree in modelForest.estimators_],\n",
        "             axis=0)\n",
        "indices = np.argsort(importances)[::-1]\n",
        "\n",
        "# Print the feature ranking\n",
        "print(\"Feature ranking:\")\n",
        "\n",
        "\n",
        "for f in range(X_train.shape[1]):\n",
        "    print(\"%d. %s (%f)\" % (f + 1, lstX[f], importances[indices[f]]))\n",
        "\n",
        "# Plot the impurity-based feature importances of the forest\n",
        "plt.figure()\n",
        "plt.title(\"Feature importances\")\n",
        "plt.bar(range(X_train.shape[1]), importances[indices],\n",
        "        color=\"r\", yerr=std[indices], align=\"center\")\n",
        "# plt.xticks(range(X_train.shape[1]), indices)\n",
        "plt.xlim([-1, X_train.shape[1]])\n",
        "plt.show()"
      ],
      "outputs": [
        {
          "output_type": "stream",
          "name": "stdout",
          "text": [
            "Feature ranking:\n",
            "1. wdpa_2017 (0.153773)\n",
            "2. population_2015 (0.076315)\n",
            "3. chirps_2017 (0.050062)\n",
            "4. defor_2017 (0.044067)\n",
            "5. maize (0.037960)\n",
            "6. soy (0.037260)\n",
            "7. sugarcane (0.036292)\n",
            "8. perc_treecover (0.036261)\n",
            "9. perm_water (0.035162)\n",
            "10. travel_min (0.034423)\n",
            "11. cropland (0.033846)\n",
            "12. mean_elev (0.033821)\n",
            "13. sd_elev (0.033135)\n",
            "14. near_road (0.031709)\n",
            "15. defor_2017_lag_1st_order (0.031653)\n",
            "16. wdpa_2017_lag_1st_order (0.030303)\n",
            "17. chirps_2017_lag_1st_order (0.029846)\n",
            "18. population_2015_lag_1st_order (0.029357)\n",
            "19. maize_lag_1st_order (0.029184)\n",
            "20. soy_lag_1st_order (0.028095)\n",
            "21. sugarcane_lag_1st_order (0.025069)\n",
            "22. perc_treecover_lag_1st_order (0.024183)\n",
            "23. perm_water_lag_1st_order (0.023978)\n",
            "24. travel_min_lag_1st_order (0.023328)\n",
            "25. cropland_lag_1st_order (0.021272)\n",
            "26. mean_elev_lag_1st_order (0.014762)\n",
            "27. sd_elev_lag_1st_order (0.008199)\n",
            "28. near_road_lag_1st_order (0.006685)\n"
          ]
        },
        {
          "output_type": "display_data",
          "data": {
            "text/plain": [
              "<Figure size 432x288 with 1 Axes>"
            ],
            "image/png": "[encoded data removed]"
          },
          "metadata": {
            "needs_background": "light"
          }
        }
      ],
      "metadata": {
        "id": "QeXTB7BZsgc3",
        "outputId": "7acd9c2a-50cc-44a5-b961-c561c63fd346",
        "colab": {
          "base_uri": "https://localhost:8080/",
          "height": 784
        }
      }
    },
    {
      "cell_type": "markdown",
      "source": [
        "# Lab"
      ],
      "metadata": {
        "id": "IoA_xEY6rLjw"
      }
    },
    {
      "cell_type": "markdown",
      "source": [
        "The lab today will have you predict deforestation using both a random forest and XGboost models"
      ],
      "metadata": {
        "id": "faiHfDS04JDD"
      }
    },
    {
      "cell_type": "code",
      "execution_count": 27,
      "source": [
        "\n",
        "\n",
        "# In the lecture part we have run a Random Forest that heavily \n",
        "# overfitted the training data. Adjust a hyperparamter \n",
        "# and see if you can train a model that does not overfit.\n",
        "\n",
        "# Hint: Vary the parameter max_depth or min_samples_split\n",
        "\n",
        "# Sklearn documentation on RF:\n",
        "# https://scikit-learn.org/stable/modules/generated/sklearn.ensemble.RandomForestClassifier.html#sklearn.ensemble.RandomForestClassifier.predict_proba\n",
        "\n",
        "# ==============\n",
        "# Your code here\n",
        "# ==============\n",
        "modelForest = ...\n",
        "\n",
        "# Fit model\n",
        "...\n",
        "\n",
        "#  Print model stats output\n",
        "printOutput(...)"
      ],
      "outputs": [
        {
          "output_type": "error",
          "ename": "NameError",
          "evalue": "ignored",
          "traceback": [
            "\u001b[0;31m---------------------------------------------------------------------------\u001b[0m",
            "\u001b[0;31mNameError\u001b[0m                                 Traceback (most recent call last)",
            "\u001b[0;32m<ipython-input-27-7e2e9c885179>\u001b[0m in \u001b[0;36m<module>\u001b[0;34m\u001b[0m\n\u001b[0;32m----> 1\u001b[0;31m \u001b[0mFEHLER\u001b[0m\u001b[0;34m\u001b[0m\u001b[0;34m\u001b[0m\u001b[0m\n\u001b[0m\u001b[1;32m      2\u001b[0m \u001b[0;34m\u001b[0m\u001b[0m\n\u001b[1;32m      3\u001b[0m \u001b[0;31m# In the lecture part we have run a Random Forest that heavily\u001b[0m\u001b[0;34m\u001b[0m\u001b[0;34m\u001b[0m\u001b[0;34m\u001b[0m\u001b[0m\n\u001b[1;32m      4\u001b[0m \u001b[0;31m# overfitted the training data. Adjust a hyperparamter\u001b[0m\u001b[0;34m\u001b[0m\u001b[0;34m\u001b[0m\u001b[0;34m\u001b[0m\u001b[0m\n\u001b[1;32m      5\u001b[0m \u001b[0;31m# and see if you can train a model that does not overfit.\u001b[0m\u001b[0;34m\u001b[0m\u001b[0;34m\u001b[0m\u001b[0;34m\u001b[0m\u001b[0m\n",
            "\u001b[0;31mNameError\u001b[0m: name 'FEHLER' is not defined"
          ]
        }
      ],
      "metadata": {
        "id": "dfVYG7QSay2e",
        "outputId": "fddc1d9a-8d0c-4ecb-a91a-eacb5671b551",
        "colab": {
          "base_uri": "https://localhost:8080/",
          "height": 235
        }
      }
    },
    {
      "cell_type": "code",
      "execution_count": null,
      "source": [
        "# Now run an XGBoost model for the same task \n",
        "import xgboost as xgb\n",
        "\n",
        "# Hint: 1) Look at one of the tutorial on XGB on how to specify and run the model\n",
        "#          (e.g. https://hackernoon.com/want-a-complete-guide-for-xgboost-model-in-python-using-scikit-learn-sc11f31bq) \n",
        "#       2) You do not need to adjust hypterparamter here. The default paramters\n",
        "#          should be fine here.\n",
        "\n",
        "# ==============\n",
        "# Your code here\n",
        "# ==============\n",
        "# Specify model \n",
        "model_xgb = ...\n",
        "\n",
        "\n",
        "# Fit model to data\n",
        "model_xgb ...\n"
      ],
      "outputs": [],
      "metadata": {
        "id": "_l6voaZ5SasI"
      }
    },
    {
      "cell_type": "code",
      "execution_count": null,
      "source": [
        "# Print the model stats of you XGB model using the function from above\n",
        "# ==============\n",
        "# Your code here\n",
        "# ==============\n",
        "...\n",
        "\n"
      ],
      "outputs": [],
      "metadata": {
        "id": "1_0NfwuZAQF1"
      }
    },
    {
      "cell_type": "code",
      "execution_count": null,
      "source": [
        "# Compare to the outcome of the other model \n",
        "# (not need to change anything here) \n",
        "print('\\n--- Logistic')\n",
        "printOutput(modelLg,X_train,Y_train,X_test,Y_test)\n",
        "\n",
        "print('\\n--- Tree')\n",
        "printOutput(modelTree,X_train,Y_train,X_test,Y_test)\n",
        "\n",
        "print('\\n--- Forest')\n",
        "printOutput(modelForest,X_train,Y_train,X_test,Y_test)\n"
      ],
      "outputs": [],
      "metadata": {
        "id": "uv_0pQBtApns"
      }
    },
    {
      "cell_type": "code",
      "execution_count": null,
      "source": [
        "# Write a couple of sentences on what you see in your models, which you \n",
        "# believe are performing better and why\n",
        "# ================\n",
        "# Your answer here\n",
        "# ================\n",
        "\n",
        "\n"
      ],
      "outputs": [],
      "metadata": {
        "id": "3RwF-b5NcE2Z"
      }
    },
    {
      "cell_type": "code",
      "execution_count": null,
      "source": [
        "# Plot an ROC corve for the Logit, Random Forest and XGB model \n",
        "\n",
        "# Hint: Check what we have done above... \n",
        "# ==============\n",
        "# Your code here\n",
        "# ==============\n",
        "# Get the predicted probabiltities \n",
        "Y_scoreXG = ...\n",
        "\n",
        "# Get true positive and false positive rate\n",
        "fpr_XG, tpr_XG, _ = ...\n",
        "\n",
        "# Get the Area under the cureve (AUC)\n",
        "roc_auc_XG = ...\n",
        "\n"
      ],
      "outputs": [],
      "metadata": {
        "id": "7wbPaM6uewwX"
      }
    },
    {
      "cell_type": "code",
      "execution_count": null,
      "source": [
        "# Plot the figure (not need to change anything here)\n",
        "plt.figure()\n",
        "lw = 2\n",
        "\n",
        "plt.plot(fpr_XG, tpr_XG, \n",
        "         lw=lw, label='XG ROC curve (area = %0.2f' % roc_auc_XG)\n",
        "\n",
        "plt.plot(fpr_Lg, tpr_Lg, \n",
        "         lw=lw, label='Logistic ROC curve (area = %0.2f' % roc_auc_Lg)\n",
        "\n",
        "plt.plot(fpr_RF, tpr_RF, \n",
        "         lw=lw, label='RF ROC curve (area = %0.2f' % roc_auc_RF)\n",
        "\n",
        "plt.plot([0, 1], [0, 1], color='navy', lw=lw, linestyle='--')\n",
        "plt.xlim([0.0, 1.0])\n",
        "plt.ylim([0.0, 1.05])\n",
        "plt.xlabel('False Positive Rate')\n",
        "plt.ylabel('True Positive Rate')\n",
        "plt.title('Receiver operating characteristic example')\n",
        "plt.legend(loc=\"lower right\")\n",
        "plt.show()"
      ],
      "outputs": [],
      "metadata": {
        "id": "vpXpt0TUhOWr"
      }
    },
    {
      "cell_type": "code",
      "execution_count": null,
      "source": [
        "# In one or two sentences, discuss what the ROC curves are telling you \n",
        "# ================\n",
        "# Your answer here\n",
        "# ================\n",
        "\n"
      ],
      "outputs": [],
      "metadata": {
        "id": "xWmorRE8cwUE"
      }
    },
    {
      "cell_type": "markdown",
      "source": [
        "### Optional Tasks"
      ],
      "metadata": {
        "id": "vw2LzA78eCjt"
      }
    },
    {
      "cell_type": "markdown",
      "source": [
        "(Optional) Generate your model's prediction errors and explore them - comparing different subsets of your data (e.g. protected areas vs others)"
      ],
      "metadata": {
        "id": "KVItUaaw4T4p"
      }
    },
    {
      "cell_type": "code",
      "execution_count": null,
      "source": [],
      "outputs": [],
      "metadata": {
        "id": "NlZwcBqV4EzK"
      }
    }
  ]
}