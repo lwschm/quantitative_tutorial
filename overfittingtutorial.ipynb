{
 "cells": [
  {
   "cell_type": "markdown",
   "metadata": {},
   "source": [
    "# Tackling Overfitting in Machine Learning using Random Forest and XGBoost"
   ]
  },
  {
   "cell_type": "markdown",
   "metadata": {},
   "source": [
    "### Objective\n",
    "Train Random Forest and XGBoost models on a dataset, identify overfitting, and apply techniques to reduce it."
   ]
  },
  {
   "cell_type": "markdown",
   "metadata": {},
   "source": [
    "### Step 1: Set Up the Environment\n",
    "Install the required libraries:\n",
    "```bash\n",
    "pip install pandas numpy scikit-learn xgboost matplotlib\n",
    "```"
   ]
  },
  {
   "cell_type": "code",
   "execution_count": null,
   "metadata": {},
   "outputs": [],
   "source": [
    "# Step 2: Load and Prepare the Dataset\n",
    "import pandas as pd\n",
    "import numpy as np\n",
    "from sklearn.model_selection import train_test_split\n",
    "from sklearn.metrics import mean_squared_error\n",
    "\n",
    "# Load dataset\n",
    "url = 'https://archive.ics.uci.edu/ml/machine-learning-databases/00477/Real%20estate%20valuation%20data%20set.xlsx'\n",
    "data = pd.read_excel(url)\n",
    "data.columns = ['Index', 'TransactionDate', 'HouseAge', 'DistanceToMRT', 'NumberOfStores', 'Latitude', 'Longitude', 'Price']\n",
    "data = data.drop('Index', axis=1)\n",
    "\n",
    "# Features and target\n",
    "X = data.drop('Price', axis=1)\n",
    "y = data['Price']\n",
    "\n",
    "# Train-test split\n",
    "X_train, X_test, y_train, y_test = train_test_split(X, y, test_size=0.2, random_state=42)"
   ]
  },
  {
   "cell_type": "code",
   "execution_count": null,
   "metadata": {},
   "outputs": [],
   "source": [
    "# Step 3: Train a Random Forest Model\n",
    "from sklearn.ensemble import RandomForestRegressor\n",
    "\n",
    "# Train a Random Forest model\n",
    "rf = RandomForestRegressor(n_estimators=100, random_state=42)\n",
    "rf.fit(X_train, y_train)\n",
    "\n",
    "# Evaluate\n",
    "train_preds = rf.predict(X_train)\n",
    "test_preds = rf.predict(X_test)\n",
    "\n",
    "print('Random Forest:')\n",
    "print(f'Train RMSE: {mean_squared_error(y_train, train_preds, squared=False):.2f}')\n",
    "print(f'Test RMSE: {mean_squared_error(y_test, test_preds, squared=False):.2f}')"
   ]
  },
  {
   "cell_type": "code",
   "execution_count": null,
   "metadata": {},
   "outputs": [],
   "source": [
    "# Step 5: Mitigate Overfitting in Random Forest\n",
    "rf_tuned = RandomForestRegressor(\n",
    "    n_estimators=100,\n",
    "    max_depth=10,\n",
    "    max_features=0.8,\n",
    "    min_samples_split=10,\n",
    "    min_samples_leaf=4,\n",
    "    random_state=42,\n",
    ")\n",
    "rf_tuned.fit(X_train, y_train)\n",
    "\n",
    "# Evaluate\n",
    "train_preds_tuned = rf_tuned.predict(X_train)\n",
    "test_preds_tuned = rf_tuned.predict(X_test)\n",
    "\n",
    "print('Tuned Random Forest:')\n",
    "print(f'Train RMSE: {mean_squared_error(y_train, train_preds_tuned, squared=False):.2f}')\n",
    "print(f'Test RMSE: {mean_squared_error(y_test, test_preds_tuned, squared=False):.2f}')"
   ]
  },
  {
   "cell_type": "code",
   "execution_count": null,
   "metadata": {},
   "outputs": [],
   "source": [
    "# Step 6: Train an XGBoost Model\n",
    "import xgboost as xgb\n",
    "\n",
    "xgb_model = xgb.XGBRegressor(n_estimators=100, random_state=42)\n",
    "xgb_model.fit(X_train, y_train)\n",
    "\n",
    "# Evaluate\n",
    "train_preds_xgb = xgb_model.predict(X_train)\n",
    "test_preds_xgb = xgb_model.predict(X_test)\n",
    "\n",
    "print('XGBoost:')\n",
    "print(f'Train RMSE: {mean_squared_error(y_train, train_preds_xgb, squared=False):.2f}')\n",
    "print(f'Test RMSE: {mean_squared_error(y_test, test_preds_xgb, squared=False):.2f}')"
   ]
  },
  {
   "cell_type": "code",
   "execution_count": null,
   "metadata": {},
   "outputs": [],
   "source": [
    "# Step 7: Mitigate Overfitting in XGBoost\n",
    "xgb_tuned = xgb.XGBRegressor(\n",
    "    n_estimators=100,\n",
    "    max_depth=6,\n",
    "    min_child_weight=3,\n",
    "    gamma=0.1,\n",
    "    reg_alpha=0.5,\n",
    "    reg_lambda=1.0,\n",
    "    random_state=42,\n",
    ")\n",
    "xgb_tuned.fit(X_train, y_train)\n",
    "\n",
    "# Evaluate\n",
    "train_preds_xgb_tuned = xgb_tuned.predict(X_train)\n",
    "test_preds_xgb_tuned = xgb_tuned.predict(X_test)\n",
    "\n",
    "print('Tuned XGBoost:')\n",
    "print(f'Train RMSE: {mean_squared_error(y_train, train_preds_xgb_tuned, squared=False):.2f}')\n",
    "print(f'Test RMSE: {mean_squared_error(y_test, train_preds_xgb_tuned, squared=False):.2f}')"
   ]
  },
  {
   "cell_type": "code",
   "execution_count": null,
   "metadata": {},
   "outputs": [],
   "source": [
    "# Step 8: Visualize Feature Importance\n",
    "import matplotlib.pyplot as plt\n",
    "\n",
    "# Random Forest\n",
    "feature_importance_rf = rf_tuned.feature_importances_\n",
    "plt.barh(X.columns, feature_importance_rf)\n",
    "plt.title('Random Forest Feature Importance')\n",
    "plt.show()\n",
    "\n",
    "# XGBoost\n",
    "xgb.plot_importance(xgb_tuned)\n",
    "plt.title('XGBoost Feature Importance')\n",
    "plt.show()"
   ]
  }
 ],
 "metadata": {
  "kernelspec": {
   "display_name": "Python 3",
   "language": "python",
   "name": "python3"
  },
  "language_info": {
   "codemirror_mode": {
    "name": "ipython",
    "version": 3
   },
   "file_extension": ".py",
   "mimetype": "text/x-python",
   "name": "python",
   "nbconvert_exporter": "python",
   "pygments_lexer": "ipython3",
   "version": "3.8.8"
  }
 },
 "nbformat": 4,
 "nbformat_minor": 5
}
